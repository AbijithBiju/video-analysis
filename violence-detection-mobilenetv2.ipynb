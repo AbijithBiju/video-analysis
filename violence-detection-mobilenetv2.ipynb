{
 "cells": [
  {
   "cell_type": "code",
   "execution_count": null,
   "metadata": {
    "_cell_guid": "7c9f5158-398c-460b-85fc-4985071ad2db",
    "_uuid": "0999feaf-66e6-41ea-aecf-14848fc98ce9",
    "execution": {
     "iopub.execute_input": "2023-02-24T17:35:23.149559Z",
     "iopub.status.busy": "2023-02-24T17:35:23.149132Z",
     "iopub.status.idle": "2023-02-24T17:35:23.161521Z",
     "shell.execute_reply": "2023-02-24T17:35:23.160304Z",
     "shell.execute_reply.started": "2023-02-24T17:35:23.149521Z"
    },
    "id": "YMm4qVv5qtGE",
    "jupyter": {
     "outputs_hidden": false
    },
    "outputId": "46034115-6222-4708-e9ef-f7f407130943",
    "papermill": {
     "duration": 0.03814,
     "end_time": "2021-05-10T22:38:38.810229",
     "exception": false,
     "start_time": "2021-05-10T22:38:38.772089",
     "status": "completed"
    },
    "tags": []
   },
   "outputs": [],
   "source": [
    "import os\n",
    "import platform\n",
    "from IPython.display import clear_output\n",
    "print(platform.platform())\n",
    "\n",
    "def resolve_dir(Dir):\n",
    "    if not os.path.exists(Dir):\n",
    "        os.mkdir(Dir)\n",
    "\n",
    "def reset_path(Dir):\n",
    "    if not os.path.exists(Dir):\n",
    "        os.mkdir(Dir)\n",
    "    else:\n",
    "        os.system('rm -f {}/*'.format( Dir))"
   ]
  },
  {
   "cell_type": "code",
   "execution_count": null,
   "metadata": {
    "_cell_guid": "1c2d2442-6d0d-40c2-88c1-a6d97f2eec2c",
    "_uuid": "2f16137a-0fad-48f1-ad4c-b2f51affabf2",
    "execution": {
     "iopub.execute_input": "2023-02-24T17:35:23.164113Z",
     "iopub.status.busy": "2023-02-24T17:35:23.163415Z",
     "iopub.status.idle": "2023-02-24T17:35:30.553108Z",
     "shell.execute_reply": "2023-02-24T17:35:30.551814Z",
     "shell.execute_reply.started": "2023-02-24T17:35:23.164067Z"
    },
    "id": "m77ifGzHqtBg",
    "jupyter": {
     "outputs_hidden": false
    },
    "outputId": "cccebfce-fcbf-4a7d-802b-4de91b6e4772",
    "papermill": {
     "duration": 6.128143,
     "end_time": "2021-05-10T22:38:44.96265",
     "exception": false,
     "start_time": "2021-05-10T22:38:38.834507",
     "status": "completed"
    },
    "tags": []
   },
   "outputs": [],
   "source": [
    "import tensorflow as tf\n",
    "tf.random.set_seed(73)\n",
    "TPU_INIT = False\n",
    "\n",
    "if TPU_INIT:\n",
    "    try:\n",
    "        tpu = tf.distribute.cluster_resolver.TPUClusterResolver.connect()\n",
    "        tpu_strategy = tf.distribute.experimental.TPUStrategy(tpu)\n",
    "    \n",
    "    except ValueError:\n",
    "        raise BaseException('ERROR: Not connected to a TPU runtime!')\n",
    "else:\n",
    "    !nvidia-smi\n",
    ";    \n",
    "print(\"Tensorflow version \" + tf.__version__)"
   ]
  },
  {
   "cell_type": "code",
   "execution_count": null,
   "metadata": {
    "_cell_guid": "fabdce7f-bb11-4b4c-8419-6d288cdbdb0e",
    "_uuid": "78b8d665-c5c9-4ae9-8b57-783f7e2b3b86",
    "execution": {
     "iopub.execute_input": "2023-02-24T17:35:30.556411Z",
     "iopub.status.busy": "2023-02-24T17:35:30.555981Z",
     "iopub.status.idle": "2023-02-24T17:35:31.625066Z",
     "shell.execute_reply": "2023-02-24T17:35:31.623894Z",
     "shell.execute_reply.started": "2023-02-24T17:35:30.556365Z"
    },
    "id": "DwRUpYt5qs1l",
    "jupyter": {
     "outputs_hidden": false
    },
    "outputId": "a177b0a6-1a7b-4e30-e75a-f96ba384cb62",
    "papermill": {
     "duration": 0.669768,
     "end_time": "2021-05-10T22:38:45.657668",
     "exception": false,
     "start_time": "2021-05-10T22:38:44.9879",
     "status": "completed"
    },
    "tags": []
   },
   "outputs": [],
   "source": [
    "MyDrive = '/kaggle/'\n",
    "PROJECT_DIR = '/Real-Life-Violence-Dataset'"
   ]
  },
  {
   "cell_type": "code",
   "execution_count": null,
   "metadata": {
    "_cell_guid": "fd02ce5a-27ba-42b3-8417-45890d9ecf93",
    "_uuid": "b41fa5e3-f6e6-47be-8091-cdcbf387f362",
    "execution": {
     "iopub.execute_input": "2023-02-24T17:35:31.627606Z",
     "iopub.status.busy": "2023-02-24T17:35:31.627233Z",
     "iopub.status.idle": "2023-02-24T17:35:31.636668Z",
     "shell.execute_reply": "2023-02-24T17:35:31.632749Z",
     "shell.execute_reply.started": "2023-02-24T17:35:31.627571Z"
    },
    "jupyter": {
     "outputs_hidden": false
    },
    "papermill": {
     "duration": 0.033093,
     "end_time": "2021-05-10T22:38:45.714653",
     "exception": false,
     "start_time": "2021-05-10T22:38:45.68156",
     "status": "completed"
    },
    "tags": []
   },
   "outputs": [],
   "source": [
    "from IPython.display import HTML\n",
    "from base64 import b64encode\n",
    "\n",
    "def play(filename):\n",
    "    html = ''\n",
    "    video = open(filename,'rb').read()\n",
    "    src = 'data:video/mp4;base64,' + b64encode(video).decode()\n",
    "    html += '<video width=640 muted controls autoplay loop><source src=\"%s\" type=\"video/mp4\"></video>' % src \n",
    "    return HTML(html)"
   ]
  },
  {
   "cell_type": "code",
   "execution_count": null,
   "metadata": {
    "_cell_guid": "3e9c7e59-d3c6-4c54-a634-53957ba28c31",
    "_uuid": "da5896b9-aa1d-4c3a-9031-1ed33e31f8db",
    "execution": {
     "iopub.execute_input": "2023-02-24T17:35:31.638709Z",
     "iopub.status.busy": "2023-02-24T17:35:31.638283Z",
     "iopub.status.idle": "2023-02-24T17:35:31.751894Z",
     "shell.execute_reply": "2023-02-24T17:35:31.748413Z",
     "shell.execute_reply.started": "2023-02-24T17:35:31.638658Z"
    },
    "jupyter": {
     "outputs_hidden": false
    },
    "papermill": {
     "duration": 0.234857,
     "end_time": "2021-05-10T22:38:46.022103",
     "exception": false,
     "start_time": "2021-05-10T22:38:45.787246",
     "status": "completed"
    },
    "tags": []
   },
   "outputs": [],
   "source": [
    "play('kaggle/Real-Life-Violence-Dataset/Violence/V_313.mp4')"
   ]
  },
  {
   "cell_type": "code",
   "execution_count": null,
   "metadata": {
    "_cell_guid": "dd7fed32-5fbb-44e4-9261-a1300329c874",
    "_uuid": "206c1f90-45ff-4d30-95a1-d35ec359c850",
    "execution": {
     "iopub.execute_input": "2023-02-24T17:35:31.754221Z",
     "iopub.status.busy": "2023-02-24T17:35:31.753664Z",
     "iopub.status.idle": "2023-02-24T17:35:31.775917Z",
     "shell.execute_reply": "2023-02-24T17:35:31.774719Z",
     "shell.execute_reply.started": "2023-02-24T17:35:31.754149Z"
    },
    "jupyter": {
     "outputs_hidden": false
    },
    "papermill": {
     "duration": 0.107424,
     "end_time": "2021-05-10T22:38:46.353782",
     "exception": false,
     "start_time": "2021-05-10T22:38:46.246358",
     "status": "completed"
    },
    "tags": []
   },
   "outputs": [],
   "source": [
    "play('kaggle/Real-Life-Violence-Dataset/NonViolence/NV_313.mp4')"
   ]
  },
  {
   "cell_type": "code",
   "execution_count": null,
   "metadata": {
    "_cell_guid": "9467b0d0-7479-4e54-8ae4-a8229260969c",
    "_uuid": "9490628b-7d75-48b5-bb4a-000f473baa84",
    "execution": {
     "iopub.execute_input": "2023-02-24T17:35:31.778425Z",
     "iopub.status.busy": "2023-02-24T17:35:31.777923Z",
     "iopub.status.idle": "2023-02-24T17:35:33.598437Z",
     "shell.execute_reply": "2023-02-24T17:35:33.597430Z",
     "shell.execute_reply.started": "2023-02-24T17:35:31.778374Z"
    },
    "jupyter": {
     "outputs_hidden": false
    },
    "papermill": {
     "duration": 1.461959,
     "end_time": "2021-05-10T22:38:48.057452",
     "exception": false,
     "start_time": "2021-05-10T22:38:46.595493",
     "status": "completed"
    },
    "tags": []
   },
   "outputs": [],
   "source": [
    "!pip install imgaug\n",
    "import cv2\n",
    "import os\n",
    "import imageio\n",
    "import imgaug.augmenters as iaa\n",
    "import imgaug as ia\n",
    "\n",
    "IMG_SIZE = 128\n",
    "ColorChannels = 3\n",
    "\n",
    "def video_to_frames(video):\n",
    "    vidcap = cv2.VideoCapture(video)\n",
    "    \n",
    "    import math\n",
    "    rate = math.floor(vidcap.get(3))\n",
    "    count = 0\n",
    "    \n",
    "    ImageFrames = []\n",
    "    while vidcap.isOpened():\n",
    "        ID = vidcap.get(1)\n",
    "        success, image = vidcap.read()\n",
    "        \n",
    "        if success:\n",
    "            # skipping frames to avoid duplications \n",
    "            if (ID % 7 == 0):\n",
    "                flip = iaa.Fliplr(1.0)\n",
    "                zoom = iaa.Affine(scale=1.3)\n",
    "                random_brightness = iaa.Multiply((1, 1.3))\n",
    "                rotate = iaa.Affine(rotate=(-25, 25))\n",
    "                \n",
    "                image_aug = flip(image = image)\n",
    "                image_aug = random_brightness(image = image_aug)\n",
    "                image_aug = zoom(image = image_aug)\n",
    "                image_aug = rotate(image = image_aug)\n",
    "                \n",
    "                rgb_img = cv2.cvtColor(image_aug, cv2.COLOR_BGR2RGB)\n",
    "                resized = cv2.resize(rgb_img, (IMG_SIZE, IMG_SIZE))\n",
    "                ImageFrames.append(resized)\n",
    "                \n",
    "            count += 1\n",
    "        else:\n",
    "            break\n",
    "    \n",
    "    vidcap.release()\n",
    "    \n",
    "    return ImageFrames"
   ]
  },
  {
   "cell_type": "code",
   "execution_count": null,
   "metadata": {
    "_cell_guid": "2b960b69-9cc2-4577-90d3-e909f97d72d2",
    "_uuid": "8ce3f6de-d6e0-426e-8095-6ee50aeb2712",
    "execution": {
     "iopub.execute_input": "2023-02-24T17:35:33.601822Z",
     "iopub.status.busy": "2023-02-24T17:35:33.601412Z",
     "iopub.status.idle": "2023-02-24T17:39:51.255788Z",
     "shell.execute_reply": "2023-02-24T17:39:51.254682Z",
     "shell.execute_reply.started": "2023-02-24T17:35:33.601779Z"
    },
    "jupyter": {
     "outputs_hidden": false
    },
    "papermill": {
     "duration": 247.044847,
     "end_time": "2021-05-10T22:42:55.182963",
     "exception": false,
     "start_time": "2021-05-10T22:38:48.138116",
     "status": "completed"
    },
    "tags": []
   },
   "outputs": [],
   "source": [
    "%%time\n",
    "from tqdm import tqdm\n",
    "\n",
    "VideoDataDir = \"kaggle/Real-Life-Violence-Dataset/\"\n",
    "print('we have \\n{} Violence videos \\n{} NonViolence videos'.format(\n",
    "              len(os.listdir(VideoDataDir + '/Violence')), \n",
    "              len(os.listdir(VideoDataDir + '/NonViolence'))))\n",
    "\n",
    "X_original = []\n",
    "y_original = []\n",
    "\n",
    "print('i choose 700 videos out of 2000, cuz of memory issue')\n",
    "CLASSES = [\"NonViolence\", \"Violence\"]\n",
    "#700 <- 350 + 350\n",
    "\n",
    "for category in os.listdir(VideoDataDir):\n",
    "    path = os.path.join(VideoDataDir, category)\n",
    "    class_num = CLASSES.index(category)\n",
    "    for i, video in enumerate(tqdm(os.listdir(path)[0:350])):\n",
    "        frames = video_to_frames(path + '/' + video)\n",
    "        for j, frame in enumerate(frames):\n",
    "            X_original.append(frame)\n",
    "            y_original.append(class_num)"
   ]
  },
  {
   "cell_type": "code",
   "execution_count": null,
   "metadata": {
    "_cell_guid": "8c409714-91fc-4cf5-808a-5d00d169539b",
    "_uuid": "dc47b659-fa2f-4adf-b807-4ba683fe5e2d",
    "execution": {
     "iopub.execute_input": "2023-02-24T17:39:51.258894Z",
     "iopub.status.busy": "2023-02-24T17:39:51.258460Z",
     "iopub.status.idle": "2023-02-24T17:39:51.534816Z",
     "shell.execute_reply": "2023-02-24T17:39:51.533810Z",
     "shell.execute_reply.started": "2023-02-24T17:39:51.258846Z"
    },
    "jupyter": {
     "outputs_hidden": false
    },
    "papermill": {
     "duration": 0.475687,
     "end_time": "2021-05-10T22:42:55.903618",
     "exception": false,
     "start_time": "2021-05-10T22:42:55.427931",
     "status": "completed"
    },
    "tags": []
   },
   "outputs": [],
   "source": [
    "import numpy as np\n",
    "X_original = np.array(X_original).reshape(-1 , IMG_SIZE * IMG_SIZE * 3)\n",
    "y_original = np.array(y_original)\n",
    "len(X_original)"
   ]
  },
  {
   "cell_type": "code",
   "execution_count": null,
   "metadata": {
    "_cell_guid": "19a2101a-a566-4771-b6bc-29f0c3652006",
    "_uuid": "7acf2de5-8b59-42c4-9ffe-6a4903908379",
    "execution": {
     "iopub.execute_input": "2023-02-24T17:39:51.536577Z",
     "iopub.status.busy": "2023-02-24T17:39:51.536185Z",
     "iopub.status.idle": "2023-02-24T17:39:53.861683Z",
     "shell.execute_reply": "2023-02-24T17:39:53.860727Z",
     "shell.execute_reply.started": "2023-02-24T17:39:51.536544Z"
    },
    "jupyter": {
     "outputs_hidden": false
    },
    "papermill": {
     "duration": 2.977512,
     "end_time": "2021-05-10T22:42:59.268281",
     "exception": false,
     "start_time": "2021-05-10T22:42:56.290769",
     "status": "completed"
    },
    "tags": []
   },
   "outputs": [],
   "source": [
    "from sklearn.model_selection import StratifiedShuffleSplit\n",
    "\n",
    "stratified_sample = StratifiedShuffleSplit(n_splits=2, test_size=0.3, random_state=73)\n",
    "\n",
    "for train_index, test_index in stratified_sample.split(X_original, y_original):\n",
    "    X_train, X_test = X_original[train_index], X_original[test_index]\n",
    "    y_train, y_test = y_original[train_index], y_original[test_index]\n",
    "\n",
    "X_train_nn = X_train.reshape(-1, IMG_SIZE, IMG_SIZE, 3) / 255\n",
    "X_test_nn = X_test.reshape(-1, IMG_SIZE, IMG_SIZE, 3) / 255"
   ]
  },
  {
   "cell_type": "code",
   "execution_count": null,
   "metadata": {
    "_cell_guid": "fa5ab514-8d71-45bc-9f53-01268c395b41",
    "_uuid": "78fdc574-3af3-4a3e-b3ec-df71b7d0e60a",
    "execution": {
     "iopub.execute_input": "2023-02-24T17:39:53.863442Z",
     "iopub.status.busy": "2023-02-24T17:39:53.863072Z",
     "iopub.status.idle": "2023-02-24T17:40:01.732712Z",
     "shell.execute_reply": "2023-02-24T17:40:01.731571Z",
     "shell.execute_reply.started": "2023-02-24T17:39:53.863397Z"
    },
    "jupyter": {
     "outputs_hidden": false
    },
    "papermill": {
     "duration": 9.378761,
     "end_time": "2021-05-10T22:43:09.375838",
     "exception": false,
     "start_time": "2021-05-10T22:42:59.997077",
     "status": "completed"
    },
    "tags": []
   },
   "outputs": [],
   "source": [
    "!pip install imutils\n",
    "clear_output()"
   ]
  },
  {
   "cell_type": "code",
   "execution_count": null,
   "metadata": {
    "_cell_guid": "c6945aac-f88f-4253-9791-c5a343a947fa",
    "_uuid": "bcb9e88e-9f3c-4821-b034-238ceab15f2f",
    "execution": {
     "iopub.execute_input": "2023-02-24T17:40:01.735523Z",
     "iopub.status.busy": "2023-02-24T17:40:01.734829Z",
     "iopub.status.idle": "2023-02-24T17:40:01.799878Z",
     "shell.execute_reply": "2023-02-24T17:40:01.798833Z",
     "shell.execute_reply.started": "2023-02-24T17:40:01.735474Z"
    },
    "id": "f5SLkPZ2I01J",
    "jupyter": {
     "outputs_hidden": false
    },
    "papermill": {
     "duration": 0.304491,
     "end_time": "2021-05-10T22:43:09.926896",
     "exception": false,
     "start_time": "2021-05-10T22:43:09.622405",
     "status": "completed"
    },
    "tags": []
   },
   "outputs": [],
   "source": [
    "import cv2\n",
    "import os\n",
    "import numpy as np\n",
    "import pickle\n",
    "import matplotlib\n",
    "matplotlib.use(\"Agg\")\n",
    "\n",
    "from keras.layers import Input\n",
    "from keras.models import Model\n",
    "from keras.layers.core import Dropout,Flatten,Dense\n",
    "\n",
    "import matplotlib.pyplot as plt"
   ]
  },
  {
   "cell_type": "code",
   "execution_count": null,
   "metadata": {
    "_cell_guid": "a232a72f-7074-4552-9192-60f84829267a",
    "_kg_hide-output": true,
    "_uuid": "59d91022-015f-4f6b-b8ca-29e1f8b76485",
    "execution": {
     "iopub.execute_input": "2023-02-24T17:40:01.807483Z",
     "iopub.status.busy": "2023-02-24T17:40:01.804991Z",
     "iopub.status.idle": "2023-02-24T17:40:06.240584Z",
     "shell.execute_reply": "2023-02-24T17:40:06.239677Z",
     "shell.execute_reply.started": "2023-02-24T17:40:01.807436Z"
    },
    "id": "dNsCZbY3p8VM",
    "jupyter": {
     "outputs_hidden": false
    },
    "outputId": "431b8715-b9d1-4bb0-eb7e-5758027c14ac",
    "papermill": {
     "duration": 4.370572,
     "end_time": "2021-05-10T22:43:14.540521",
     "exception": false,
     "start_time": "2021-05-10T22:43:10.169949",
     "status": "completed"
    },
    "tags": []
   },
   "outputs": [],
   "source": [
    "epochs = 10\n",
    "\n",
    "from keras import regularizers\n",
    "kernel_regularizer = regularizers.l2(0.0001)\n",
    "\n",
    "from keras.applications import MobileNetV2\n",
    "\n",
    "def load_layers():\n",
    "    input_tensor = Input(shape=(IMG_SIZE, IMG_SIZE, ColorChannels))\n",
    "    baseModel = MobileNetV2(pooling='avg',\n",
    "                            include_top=False, \n",
    "                            input_tensor=input_tensor)\n",
    "    \n",
    "    headModel = baseModel.output   \n",
    "    headModel = Dense(1, activation=\"sigmoid\")(headModel)\n",
    "    model = Model(inputs=baseModel.input, outputs=headModel)\n",
    "\n",
    "    for layer in baseModel.layers:\n",
    "        layer.trainable = False\n",
    "\n",
    "    print(\"Compiling model...\")\n",
    "    model.compile(loss=\"binary_crossentropy\",\n",
    "                    optimizer='adam',\n",
    "                    metrics=[\"accuracy\"])\n",
    "\n",
    "    return model\n",
    "\n",
    "if TPU_INIT:\n",
    "    with tpu_strategy.scope():\n",
    "        model = load_layers()\n",
    "else:\n",
    "    model = load_layers()\n",
    "\n",
    "model.summary()"
   ]
  },
  {
   "cell_type": "code",
   "execution_count": null,
   "metadata": {
    "_cell_guid": "6b38522f-7139-4e9b-927c-7699a266cb74",
    "_uuid": "8f5f0558-202a-4086-a8aa-81c9954d905d",
    "execution": {
     "iopub.execute_input": "2023-02-24T17:40:06.242574Z",
     "iopub.status.busy": "2023-02-24T17:40:06.242162Z",
     "iopub.status.idle": "2023-02-24T17:40:06.252562Z",
     "shell.execute_reply": "2023-02-24T17:40:06.251416Z",
     "shell.execute_reply.started": "2023-02-24T17:40:06.242531Z"
    },
    "id": "Ot4-s-9rLwF4",
    "jupyter": {
     "outputs_hidden": false
    },
    "papermill": {
     "duration": 0.268175,
     "end_time": "2021-05-10T22:43:15.065913",
     "exception": false,
     "start_time": "2021-05-10T22:43:14.797738",
     "status": "completed"
    },
    "tags": []
   },
   "outputs": [],
   "source": [
    "from tensorflow.keras.callbacks import Callback, ModelCheckpoint, LearningRateScheduler, TensorBoard, EarlyStopping, ReduceLROnPlateau\n",
    "\n",
    "patience = 3\n",
    "\n",
    "start_lr = 0.00001\n",
    "min_lr = 0.00001\n",
    "max_lr = 0.00005\n",
    "\n",
    "batch_size = 4\n",
    "\n",
    "if TPU_INIT:\n",
    "    max_lr = max_lr * tpu_strategy.num_replicas_in_sync\n",
    "    batch_size = batch_size * tpu_strategy.num_replicas_in_sync\n",
    "\n",
    "rampup_epochs = 5\n",
    "sustain_epochs = 0\n",
    "exp_decay = .8\n",
    "\n",
    "def lrfn(epoch):\n",
    "    if epoch < rampup_epochs:\n",
    "        return (max_lr - start_lr)/rampup_epochs * epoch + start_lr\n",
    "    elif epoch < rampup_epochs + sustain_epochs:\n",
    "        return max_lr\n",
    "    else:\n",
    "        return (max_lr - min_lr) * exp_decay**(epoch-rampup_epochs-sustain_epochs) + min_lr\n",
    "\n",
    "\n",
    "class myCallback(Callback):\n",
    "    def on_epoch_end(self, epoch, logs={}):\n",
    "        if ((logs.get('accuracy')>=0.999)):\n",
    "            print(\"\\nLimits Reached cancelling training!\")\n",
    "            self.model.stop_training = True"
   ]
  },
  {
   "cell_type": "code",
   "execution_count": null,
   "metadata": {
    "_cell_guid": "7673ba71-036b-40b7-b4e1-1d4c78e0e8df",
    "_uuid": "642dedc3-7171-433b-80d7-e16aafde6ea2",
    "execution": {
     "iopub.execute_input": "2023-02-24T17:40:06.254559Z",
     "iopub.status.busy": "2023-02-24T17:40:06.254103Z",
     "iopub.status.idle": "2023-02-24T17:40:06.912160Z",
     "shell.execute_reply": "2023-02-24T17:40:06.910820Z",
     "shell.execute_reply.started": "2023-02-24T17:40:06.254520Z"
    },
    "jupyter": {
     "outputs_hidden": false
    },
    "papermill": {
     "duration": 0.464802,
     "end_time": "2021-05-10T22:43:15.775317",
     "exception": false,
     "start_time": "2021-05-10T22:43:15.310515",
     "status": "completed"
    },
    "tags": []
   },
   "outputs": [],
   "source": [
    "end_callback = myCallback()\n",
    "\n",
    "lr_callback = LearningRateScheduler(lambda epoch: lrfn(epoch), verbose=False)\n",
    "\n",
    "early_stopping = EarlyStopping(patience = patience, monitor='val_loss',\n",
    "                                 mode='min', restore_best_weights=True, \n",
    "                                 verbose = 1, min_delta = .00075)\n",
    "\n",
    "PROJECT_DIR = MyDrive + '/RiskDetection'\n",
    "\n",
    "lr_plat = ReduceLROnPlateau(patience = 2, mode = 'min')\n",
    "\n",
    "os.system('rm -rf ./logs/')\n",
    "\n",
    "import datetime\n",
    "log_dir=\"logs/fit/\" + datetime.datetime.now().strftime(\"%Y%m%d-%H%M%S\")\n",
    "tensorboard_callback = TensorBoard(log_dir = log_dir, write_graph=True, histogram_freq=1)\n",
    "\n",
    "checkpoint_filepath = 'ModelWeights.h5'\n",
    "\n",
    "model_checkpoints = ModelCheckpoint(filepath=checkpoint_filepath,\n",
    "                                        save_weights_only=True,\n",
    "                                        monitor='val_loss',\n",
    "                                        mode='min',\n",
    "                                        verbose = 1,\n",
    "                                        save_best_only=True)\n",
    "\n",
    "\n",
    "callbacks = [end_callback, lr_callback, model_checkpoints, tensorboard_callback, early_stopping, lr_plat]\n",
    "\n",
    "if TPU_INIT:\n",
    "    callbacks = [end_callback, lr_callback, model_checkpoints, early_stopping, lr_plat]"
   ]
  },
  {
   "cell_type": "code",
   "execution_count": null,
   "metadata": {
    "_cell_guid": "0e6b66ba-daae-4523-bb8e-e19133821301",
    "_kg_hide-output": false,
    "_uuid": "5e664b62-4cee-4746-8cc6-3eb8a7117add",
    "execution": {
     "iopub.execute_input": "2023-02-24T17:40:35.473743Z",
     "iopub.status.busy": "2023-02-24T17:40:35.473251Z",
     "iopub.status.idle": "2023-02-24T17:40:35.977657Z",
     "shell.execute_reply": "2023-02-24T17:40:35.976572Z",
     "shell.execute_reply.started": "2023-02-24T17:40:35.473703Z"
    },
    "id": "MDFpuPolFYRc",
    "jupyter": {
     "outputs_hidden": false
    },
    "outputId": "ea444b27-b899-46b5-cc59-fe9ba7de6c9a",
    "papermill": {
     "duration": 931.545002,
     "end_time": "2021-05-10T22:58:47.565083",
     "exception": false,
     "start_time": "2021-05-10T22:43:16.020081",
     "status": "completed"
    },
    "tags": []
   },
   "outputs": [],
   "source": [
    "print('Training head...')\n",
    "# model.load_weights('./ModelWeights.h5')\n",
    "\n",
    "history = model.fit(X_train_nn ,y_train, epochs=1,\n",
    "                        callbacks=callbacks,\n",
    "                        validation_data = (X_test_nn, y_test),\n",
    "                        batch_size=batch_size)\n",
    "\n",
    "print('\\nRestoring best Weights for MobileNetV2')\n",
    "model.load_weights(checkpoint_filepath)"
   ]
  },
  {
   "cell_type": "code",
   "execution_count": null,
   "metadata": {
    "_cell_guid": "b06d8b93-0cd8-4bc4-9116-e558b37c42ad",
    "_uuid": "8bbbab4e-2258-4263-a443-daa93f7a8e67",
    "execution": {
     "iopub.execute_input": "2023-02-24T17:40:44.294116Z",
     "iopub.status.busy": "2023-02-24T17:40:44.293754Z",
     "iopub.status.idle": "2023-02-24T17:40:44.311209Z",
     "shell.execute_reply": "2023-02-24T17:40:44.310105Z",
     "shell.execute_reply.started": "2023-02-24T17:40:44.294079Z"
    },
    "jupyter": {
     "outputs_hidden": false
    },
    "papermill": {
     "duration": 3.590515,
     "end_time": "2021-05-10T22:58:54.560545",
     "exception": false,
     "start_time": "2021-05-10T22:58:50.97003",
     "status": "completed"
    },
    "tags": []
   },
   "outputs": [],
   "source": [
    "%matplotlib inline\n",
    "\n",
    "def print_graph(item, index, history):\n",
    "    plt.figure()\n",
    "    train_values = history.history[item][0:index]\n",
    "    plt.plot(train_values)\n",
    "    test_values = history.history['val_' + item][0:index]\n",
    "    plt.plot(test_values)\n",
    "    plt.legend(['training','validation'])\n",
    "    plt.title('Training and validation '+ item)\n",
    "    plt.xlabel('epoch')\n",
    "    plt.show()\n",
    "    plot = '{}.png'.format(item)\n",
    "    plt.savefig(plot)\n",
    "\n",
    "\n",
    "def get_best_epoch(test_loss, history):\n",
    "    for key, item in enumerate(history.history.items()):\n",
    "        (name, arr) = item\n",
    "        if name == 'val_loss':\n",
    "            for i in range(len(arr)):\n",
    "                if round(test_loss, 2) == round(arr[i], 2):\n",
    "                    return i\n",
    "                \n",
    "def model_summary(model, history):\n",
    "    print('---'*30)\n",
    "    test_loss, test_accuracy = model.evaluate(X_test_nn, y_test, verbose=0)\n",
    "\n",
    "    if history:\n",
    "        index = get_best_epoch(test_loss, history)\n",
    "        print('Best Epochs: ', index)\n",
    "\n",
    "        train_accuracy = history.history['accuracy'][index]\n",
    "        train_loss = history.history['loss'][index]\n",
    "\n",
    "        print('Accuracy on train:',train_accuracy,'\\tLoss on train:',train_loss)\n",
    "        print('Accuracy on test:',test_accuracy,'\\tLoss on test:',test_loss)\n",
    "        print_graph('loss', index, history)\n",
    "        print_graph('accuracy', index, history)\n",
    "        print('---'*30)"
   ]
  },
  {
   "cell_type": "code",
   "execution_count": null,
   "metadata": {
    "_cell_guid": "aee879f7-7522-4810-b364-762b1921ae11",
    "_uuid": "5a58b013-a6f1-4324-849e-0d7181e77f5d",
    "execution": {
     "iopub.execute_input": "2023-02-24T17:40:50.434384Z",
     "iopub.status.busy": "2023-02-24T17:40:50.433977Z",
     "iopub.status.idle": "2023-02-24T17:40:50.462598Z",
     "shell.execute_reply": "2023-02-24T17:40:50.461264Z",
     "shell.execute_reply.started": "2023-02-24T17:40:50.434343Z"
    },
    "jupyter": {
     "outputs_hidden": false
    },
    "papermill": {
     "duration": 6.947044,
     "end_time": "2021-05-10T22:59:04.89205",
     "exception": false,
     "start_time": "2021-05-10T22:58:57.945006",
     "status": "completed"
    },
    "tags": []
   },
   "outputs": [],
   "source": [
    "model_summary(model, history)"
   ]
  },
  {
   "cell_type": "code",
   "execution_count": null,
   "metadata": {
    "_cell_guid": "d9cc26f9-4a8d-48bb-a664-18f3283ec0c2",
    "_uuid": "0001bc7b-c875-49c6-ba9b-b8fbe25b8a6c",
    "execution": {
     "iopub.execute_input": "2023-02-24T17:41:20.745733Z",
     "iopub.status.busy": "2023-02-24T17:41:20.745358Z",
     "iopub.status.idle": "2023-02-24T17:41:30.060843Z",
     "shell.execute_reply": "2023-02-24T17:41:30.059205Z",
     "shell.execute_reply.started": "2023-02-24T17:41:20.745698Z"
    },
    "id": "RDJb2EZDtwH2",
    "jupyter": {
     "outputs_hidden": false
    },
    "outputId": "e3685299-469c-40b1-e249-026cfcb2e4e2",
    "papermill": {
     "duration": 6.335061,
     "end_time": "2021-05-10T22:59:22.084584",
     "exception": false,
     "start_time": "2021-05-10T22:59:15.749523",
     "status": "completed"
    },
    "tags": []
   },
   "outputs": [],
   "source": [
    "# evaluate the network\n",
    "print(\"Evaluating network...\")\n",
    "predictions = model.predict(X_test_nn)\n",
    "preds = predictions > 0.5"
   ]
  },
  {
   "cell_type": "code",
   "execution_count": null,
   "metadata": {
    "_cell_guid": "ff8600b1-c59c-420a-961f-9b10576661c8",
    "_uuid": "1cccef61-09bb-4cfd-b4ec-7e2e23623c05",
    "execution": {
     "iopub.status.busy": "2023-02-24T17:40:07.440539Z",
     "iopub.status.idle": "2023-02-24T17:40:07.442642Z"
    },
    "jupyter": {
     "source_hidden": true
    },
    "papermill": {
     "duration": 4.350638,
     "end_time": "2021-05-10T22:59:29.863018",
     "exception": false,
     "start_time": "2021-05-10T22:59:25.51238",
     "status": "completed"
    },
    "tags": []
   },
   "outputs": [],
   "source": [
    "import seaborn as sns\n",
    "from sklearn import metrics\n",
    "from sklearn.metrics import roc_curve, roc_auc_score, plot_roc_curve, accuracy_score, classification_report, confusion_matrix\n",
    "corr_pred = metrics.confusion_matrix(y_test, preds)\n",
    "\n",
    "n_correct = np.int((corr_pred[0][0] + corr_pred[1][1]))\n",
    "print('> Correct Predictions:', n_correct)\n",
    "n_wrongs = np.int((corr_pred[0][1] + (corr_pred[1][0])))\n",
    "print('> Wrong Predictions:', n_wrongs)\n",
    "\n",
    "sns.heatmap(corr_pred,annot=True, fmt=\"d\",cmap=\"Blues\")\n",
    "plt.show()\n",
    "\n",
    "print(metrics.classification_report(y_test, preds, \n",
    "                           target_names=[\"NonViolence\", \"Violence\"]))"
   ]
  },
  {
   "cell_type": "code",
   "execution_count": null,
   "metadata": {
    "_cell_guid": "3fb01c63-1e70-40f4-9794-a200f3fa5994",
    "_uuid": "e3cbc09d-0f06-439f-9e5f-89b49b407725",
    "execution": {
     "iopub.execute_input": "2023-02-24T17:41:48.569912Z",
     "iopub.status.busy": "2023-02-24T17:41:48.569504Z",
     "iopub.status.idle": "2023-02-24T17:41:48.858022Z",
     "shell.execute_reply": "2023-02-24T17:41:48.857059Z",
     "shell.execute_reply.started": "2023-02-24T17:41:48.569868Z"
    },
    "id": "QC4GtxqMtt81",
    "jupyter": {
     "outputs_hidden": false
    },
    "outputId": "fe6883b6-373d-4ab3-9b9e-de6a2e0dfab1",
    "papermill": {
     "duration": 3.634233,
     "end_time": "2021-05-10T22:59:36.849415",
     "exception": false,
     "start_time": "2021-05-10T22:59:33.215182",
     "status": "completed"
    },
    "tags": []
   },
   "outputs": [],
   "source": [
    "args_model = \"model.h5\"\n",
    "model.save(args_model)"
   ]
  },
  {
   "cell_type": "code",
   "execution_count": null,
   "metadata": {
    "_cell_guid": "85ebe21b-76ed-42f2-8e22-2afaac8c89fc",
    "_uuid": "25c2d0d8-73ca-4f74-be8f-0dea6bc3fb04",
    "execution": {
     "iopub.execute_input": "2023-02-24T17:41:56.672821Z",
     "iopub.status.busy": "2023-02-24T17:41:56.672420Z",
     "iopub.status.idle": "2023-02-24T17:41:56.689389Z",
     "shell.execute_reply": "2023-02-24T17:41:56.687667Z",
     "shell.execute_reply.started": "2023-02-24T17:41:56.672783Z"
    },
    "id": "tHlSbZC6qEdk",
    "jupyter": {
     "outputs_hidden": false
    },
    "outputId": "7c3327ef-b7dd-4c64-e319-1ff28e61be70",
    "papermill": {
     "duration": 3.68087,
     "end_time": "2021-05-10T22:59:51.260976",
     "exception": false,
     "start_time": "2021-05-10T22:59:47.580106",
     "status": "completed"
    },
    "tags": []
   },
   "outputs": [],
   "source": [
    "import numpy as np\n",
    "import argparse\n",
    "import pickle\n",
    "import cv2\n",
    "import os\n",
    "import time\n",
    "from keras.models import load_model\n",
    "from collections import deque\n",
    "\n",
    "def print_results(video, limit=None):\n",
    "        fig=plt.figure(figsize=(16, 30))\n",
    "        if not os.path.exists('output'):\n",
    "            os.mkdir('output')\n",
    "\n",
    "        print(\"Loading model ...\")\n",
    "        model = load_model('./model.h5')\n",
    "        Q = deque(maxlen=128)\n",
    "\n",
    "        vs = cv2.VideoCapture(video)\n",
    "        writer = None\n",
    "        (W, H) = (None, None)\n",
    "        count = 0     \n",
    "        while True:\n",
    "                (grabbed, frame) = vs.read()\n",
    "                ID = vs.get(1)\n",
    "                if not grabbed:\n",
    "                    break\n",
    "                try:\n",
    "                    if (ID % 7 == 0):\n",
    "                        count = count + 1\n",
    "                        n_frames = len(frame)\n",
    "                        \n",
    "                        if W is None or H is None:\n",
    "                            (H, W) = frame.shape[:2]\n",
    "\n",
    "                        frame = cv2.cvtColor(frame, cv2.COLOR_BGR2RGB)\n",
    "                        output = cv2.resize(frame, (512, 360)).copy()\n",
    "                        frame = cv2.resize(frame, (128, 128)).astype(\"float32\")\n",
    "                        frame = frame.reshape(IMG_SIZE, IMG_SIZE, 3) / 255\n",
    "                        preds = model.predict(np.expand_dims(frame, axis=0))[0]\n",
    "                        Q.append(preds)\n",
    "\n",
    "                        results = np.array(Q).mean(axis=0)\n",
    "                        i = (preds > 0.56)[0] #np.argmax(results)\n",
    "\n",
    "                        label = i\n",
    "\n",
    "                        text = \"Violence: {}\".format(label)\n",
    "                        #print('prediction:', text)\n",
    "                        file = open(\"output.txt\",'w')\n",
    "                        file.write(text)\n",
    "                        file.close()\n",
    "\n",
    "                        color = (0, 255, 0)\n",
    "\n",
    "                        if label:\n",
    "                            color = (255, 0, 0) \n",
    "                        else:\n",
    "                            color = (0, 255, 0)\n",
    "\n",
    "                        cv2.putText(output, text, (35, 50), cv2.FONT_HERSHEY_SIMPLEX,\n",
    "                                1, color, 3)\n",
    "\n",
    "\n",
    "                        # saving mp4 with labels but cv2.imshow is not working with this notebook\n",
    "                        if writer is None:\n",
    "                                fourcc = cv2.VideoWriter_fourcc(*\"MJPG\")\n",
    "                                writer = cv2.VideoWriter(\"output.mp4\", fourcc, 60,\n",
    "                                        (W, H), True)\n",
    "\n",
    "                        writer.write(output)\n",
    "                        #cv2.imshow(\"Output\", output)\n",
    "\n",
    "                        fig.add_subplot(8, 3, count)\n",
    "                        plt.imshow(output)\n",
    "\n",
    "                    if limit and count > limit:\n",
    "                        break\n",
    "\n",
    "                except:\n",
    "                    break \n",
    "        \n",
    "        plt.show()\n",
    "        print(\"Cleaning up...\")\n",
    "        if writer is not None:\n",
    "            writer.release()\n",
    "        vs.release()"
   ]
  },
  {
   "cell_type": "code",
   "execution_count": null,
   "metadata": {
    "_cell_guid": "cd78f13a-0ac1-480e-a123-44c611449efd",
    "_uuid": "8afb1591-fa4c-447c-8451-1f149dd25f0f",
    "execution": {
     "iopub.execute_input": "2023-02-24T17:42:04.876460Z",
     "iopub.status.busy": "2023-02-24T17:42:04.876042Z",
     "iopub.status.idle": "2023-02-24T17:42:04.905476Z",
     "shell.execute_reply": "2023-02-24T17:42:04.904447Z",
     "shell.execute_reply.started": "2023-02-24T17:42:04.876419Z"
    },
    "jupyter": {
     "outputs_hidden": false
    },
    "papermill": {
     "duration": 3.386966,
     "end_time": "2021-05-10T23:00:05.019675",
     "exception": false,
     "start_time": "2021-05-10T23:00:01.632709",
     "status": "completed"
    },
    "tags": []
   },
   "outputs": [],
   "source": [
    "Violence=\"../input/real-life-violence-situations-dataset/Real Life Violence Dataset/Violence/V_129.mp4\" \n",
    "play(Violence)"
   ]
  },
  {
   "cell_type": "code",
   "execution_count": null,
   "metadata": {
    "_cell_guid": "230c0ff0-9ab5-4442-beae-5f8c21788c9a",
    "_uuid": "f2e0c477-a873-40f8-810f-478d8202bb51",
    "execution": {
     "iopub.execute_input": "2023-02-24T17:42:14.753124Z",
     "iopub.status.busy": "2023-02-24T17:42:14.752758Z",
     "iopub.status.idle": "2023-02-24T17:42:22.295575Z",
     "shell.execute_reply": "2023-02-24T17:42:22.294731Z",
     "shell.execute_reply.started": "2023-02-24T17:42:14.753089Z"
    },
    "jupyter": {
     "outputs_hidden": false
    },
    "papermill": {
     "duration": 10.184212,
     "end_time": "2021-05-10T23:00:25.593239",
     "exception": false,
     "start_time": "2021-05-10T23:00:15.409027",
     "status": "completed"
    },
    "tags": []
   },
   "outputs": [],
   "source": [
    "print_results(Violence, limit=30)"
   ]
  },
  {
   "cell_type": "code",
   "execution_count": null,
   "metadata": {
    "_cell_guid": "e33915f6-a07b-4dc7-8269-80306d1da42c",
    "_uuid": "fb85fb46-7a53-40e3-9f25-5bd19c9b3d61",
    "execution": {
     "iopub.execute_input": "2023-02-24T17:42:36.307534Z",
     "iopub.status.busy": "2023-02-24T17:42:36.307106Z",
     "iopub.status.idle": "2023-02-24T17:42:36.341326Z",
     "shell.execute_reply": "2023-02-24T17:42:36.339830Z",
     "shell.execute_reply.started": "2023-02-24T17:42:36.307495Z"
    },
    "jupyter": {
     "outputs_hidden": false
    },
    "papermill": {
     "duration": 3.583608,
     "end_time": "2021-05-10T23:00:39.71994",
     "exception": false,
     "start_time": "2021-05-10T23:00:36.136332",
     "status": "completed"
    },
    "tags": []
   },
   "outputs": [],
   "source": [
    "NonViolence=\"../input/real-life-violence-situations-dataset/Real Life Violence Dataset/NonViolence/NV_25.mp4\"\n",
    "play(NonViolence)"
   ]
  },
  {
   "cell_type": "code",
   "execution_count": null,
   "metadata": {
    "_cell_guid": "ce10b4c5-bf03-4577-bbf2-ab4125435526",
    "_uuid": "5d94379d-f131-4c95-95b0-ed5cfa451431",
    "execution": {
     "iopub.execute_input": "2023-02-24T17:43:09.460909Z",
     "iopub.status.busy": "2023-02-24T17:43:09.460531Z",
     "iopub.status.idle": "2023-02-24T17:43:16.408336Z",
     "shell.execute_reply": "2023-02-24T17:43:16.407475Z",
     "shell.execute_reply.started": "2023-02-24T17:43:09.460873Z"
    },
    "jupyter": {
     "outputs_hidden": false
    },
    "papermill": {
     "duration": 9.931242,
     "end_time": "2021-05-10T23:01:00.280283",
     "exception": false,
     "start_time": "2021-05-10T23:00:50.349041",
     "status": "completed"
    },
    "tags": []
   },
   "outputs": [],
   "source": [
    "print_results(NonViolence, limit=50)"
   ]
  },
  {
   "cell_type": "code",
   "execution_count": null,
   "metadata": {
    "_cell_guid": "8eed9530-c434-4fe9-befd-b9e2810052a5",
    "_uuid": "78c597ba-2588-45f4-a73c-4f1e01279674",
    "execution": {
     "iopub.execute_input": "2023-02-24T17:43:28.060922Z",
     "iopub.status.busy": "2023-02-24T17:43:28.060532Z",
     "iopub.status.idle": "2023-02-24T17:43:31.556566Z",
     "shell.execute_reply": "2023-02-24T17:43:31.555543Z",
     "shell.execute_reply.started": "2023-02-24T17:43:28.060884Z"
    },
    "jupyter": {
     "outputs_hidden": false
    },
    "papermill": {
     "duration": 6.677746,
     "end_time": "2021-05-10T23:01:17.655333",
     "exception": false,
     "start_time": "2021-05-10T23:01:10.977587",
     "status": "completed"
    },
    "tags": []
   },
   "outputs": [],
   "source": [
    "NonViolence=\"../input/real-life-violence-situations-dataset/Real Life Violence Dataset/NonViolence/NV_999.mp4\"\n",
    "print_results(NonViolence, limit=5)"
   ]
  },
  {
   "cell_type": "code",
   "execution_count": null,
   "metadata": {
    "_cell_guid": "7a212d07-f305-486a-803f-2d621ed672ae",
    "_uuid": "4641f5b9-f127-43d2-b618-69143221420f",
    "execution": {
     "iopub.status.busy": "2023-02-24T17:40:07.472006Z",
     "iopub.status.idle": "2023-02-24T17:40:07.474656Z"
    },
    "jupyter": {
     "outputs_hidden": false
    },
    "papermill": {
     "duration": 3.951538,
     "end_time": "2021-05-10T23:01:25.210413",
     "exception": false,
     "start_time": "2021-05-10T23:01:21.258875",
     "status": "completed"
    },
    "tags": []
   },
   "outputs": [],
   "source": [
    "from IPython.display import FileLink\n",
    "FileLink(r'./model.h5')"
   ]
  }
 ],
 "metadata": {
  "kernelspec": {
   "display_name": "Python 3",
   "language": "python",
   "name": "python3"
  },
  "language_info": {
   "codemirror_mode": {
    "name": "ipython",
    "version": 3
   },
   "file_extension": ".py",
   "mimetype": "text/x-python",
   "name": "python",
   "nbconvert_exporter": "python",
   "pygments_lexer": "ipython3",
   "version": "3.8.5"
  },
  "vscode": {
   "interpreter": {
    "hash": "bc3b32eff8e91f1942d13814adeeacdb7e6abf7d195ba8e71ef9b503d0776cd1"
   }
  }
 },
 "nbformat": 4,
 "nbformat_minor": 4
}
